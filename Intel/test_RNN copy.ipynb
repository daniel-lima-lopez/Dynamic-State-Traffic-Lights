{
 "cells": [
  {
   "cell_type": "code",
   "execution_count": 1,
   "metadata": {},
   "outputs": [],
   "source": [
    "import tensorflow as tf\n",
    "import numpy as np"
   ]
  },
  {
   "cell_type": "code",
   "execution_count": 21,
   "metadata": {},
   "outputs": [],
   "source": [
    "class StateTime(tf.keras.layers.Layer):\n",
    "    def __init__(self, opts, t0=5, tf=15):\n",
    "        super().__init__()\n",
    "        self.opts = opts # numero de casos de semaforos considerados\n",
    "        self.t0 = t0 # rango inferior de la ventana de tiempo\n",
    "        self.tf = tf # rango superior de la ventana de tiempo\n",
    "    \n",
    "    def get_config(self):\n",
    "        return {'opts': self.opts}\n",
    "\n",
    "    def build(self, input_shape): # (batch, units)\n",
    "        self.Wopt = self.add_weight(shape=(input_shape[-1], self.opts)) # matriz de pesos para opciones de control\n",
    "        self.bopt = self.add_weight(shape=(self.opts,)) # bias para opciones de control\n",
    "\n",
    "        self.Wt = self.add_weight(shape=(input_shape[-1],1)) # matriz de pesos para opciones de control\n",
    "        self.bt = self.add_weight(shape=(1,)) # bias para opciones de control\n",
    "\n",
    "    \n",
    "    def call(self, Xs):\n",
    "        yopt = tf.keras.activations.softmax(tf.matmul(Xs, self.Wopt) + self.bopt)\n",
    "        yt = (self.tf-self.t0)*tf.keras.activations.sigmoid(tf.matmul(Xs, self.Wt) + self.bt) + self.t0\n",
    "\n",
    "        ys = tf.concat([yopt, yt], axis=-1)\n",
    "        \n",
    "        return ys\n",
    "\n",
    "\n",
    "class ControlStateTime(tf.keras.Model):\n",
    "    def __init__(self, cs, u1=16, u2=32, opts=4):\n",
    "        super().__init__()\n",
    "\n",
    "        self.cs = cs\n",
    "        self.u1 = u1\n",
    "        self.u2 = u2\n",
    "        self.opts = opts\n",
    "\n",
    "        self.d1 = tf.keras.layers.Dense(units=self.u1, activation='relu', input_dim=self.cs)\n",
    "        self.d2 = tf.keras.layers.Dense(units=self.u2, activation='relu')\n",
    "        self.trafic = StateTime(opts=self.opts)\n",
    "\n",
    "    def call(self, Xs):\n",
    "        ys = self.d1(Xs)\n",
    "        ys = self.d2(ys)\n",
    "        ys = self.trafic(ys)\n",
    "\n",
    "        return ys\n",
    "    \n",
    "    def get_gen(self):\n",
    "        gen = []\n",
    "        for layer in [self.d1, self.d2, self.trafic]:\n",
    "            Ws = layer.get_weights()\n",
    "            for wi in Ws:\n",
    "                wi = np.array(wi)\n",
    "                wi = wi.flatten(order='C')\n",
    "                gen += list(wi)\n",
    "        return np.array(gen)\n",
    "    \n",
    "    def set_phen(self, gen):\n",
    "        aux = 0 # limite inferior para saber que variables tomar\n",
    "        for layer in [self.d1, self.d2, self.trafic]:\n",
    "            Ws = layer.get_weights()\n",
    "            new_ws = []\n",
    "            for wi in Ws:\n",
    "                inc = np.prod(wi.shape)\n",
    "                auxW = gen[aux:aux+inc]\n",
    "                auxW = np.reshape(auxW, newshape=wi.shape)\n",
    "                new_ws.append(auxW)\n",
    "                aux += inc\n",
    "            layer.set_weights(new_ws)\n",
    "\n",
    "\n",
    "class ControlState(tf.keras.Model):\n",
    "    def __init__(self, cs=4, u1=16, u2=32, opts=4):\n",
    "        super().__init__()\n",
    "\n",
    "        self.cs = cs # tamano del vector de entrada de la red\n",
    "        self.u1 = u1\n",
    "        self.u2 = u2\n",
    "        self.opts = opts\n",
    "        \n",
    "        self.d1 = tf.keras.layers.Dense(units=u1, activation='relu')\n",
    "        self.d2 = tf.keras.layers.Dense(units=u2, activation='relu')\n",
    "        self.trafic = tf.keras.layers.Dense(units=opts, activation='softmax')\n",
    "    \n",
    "    def call(self, Xs):\n",
    "        ys = self.d1(Xs)\n",
    "        ys = self.d2(ys)\n",
    "        ys = self.trafic(ys)\n",
    "\n",
    "        return ys\n",
    "    \n",
    "    def get_gen(self):\n",
    "        gen = []\n",
    "        for layer in [self.d1, self.d2, self.trafic]:\n",
    "            Ws = layer.get_weights()\n",
    "            for wi in Ws:\n",
    "                wi = np.array(wi)\n",
    "                wi = wi.flatten(order='C')\n",
    "                gen += list(wi)\n",
    "        return np.array(gen)\n",
    "    \n",
    "    def set_phen(self, gen):\n",
    "        aux = 0 # limite inferior para saber que variables tomar\n",
    "        for layer in [self.d1, self.d2, self.trafic]:\n",
    "            Ws = layer.get_weights()\n",
    "            new_ws = []\n",
    "            for wi in Ws:\n",
    "                inc = np.prod(wi.shape)\n",
    "                auxW = gen[aux:aux+inc]\n",
    "                auxW = np.reshape(auxW, newshape=wi.shape)\n",
    "                new_ws.append(auxW)\n",
    "                aux += inc\n",
    "            layer.set_weights(new_ws)"
   ]
  },
  {
   "cell_type": "markdown",
   "metadata": {},
   "source": [
    "# Prueba ControlState"
   ]
  },
  {
   "cell_type": "code",
   "execution_count": 22,
   "metadata": {},
   "outputs": [
    {
     "name": "stdout",
     "output_type": "stream",
     "text": [
      "1/1 [==============================] - 0s 101ms/step\n",
      "Model: \"control_state\"\n",
      "_________________________________________________________________\n",
      " Layer (type)                Output Shape              Param #   \n",
      "=================================================================\n",
      " dense_10 (Dense)            multiple                  80        \n",
      "                                                                 \n",
      " dense_11 (Dense)            multiple                  544       \n",
      "                                                                 \n",
      " dense_12 (Dense)            multiple                  132       \n",
      "                                                                 \n",
      "=================================================================\n",
      "Total params: 756\n",
      "Trainable params: 756\n",
      "Non-trainable params: 0\n",
      "_________________________________________________________________\n"
     ]
    }
   ],
   "source": [
    "cs = 4 # tamano del vector de entrada evaluado por la red\n",
    "es = 4 # numero de configuraciones del semaforo\n",
    "\n",
    "NN = ControlState(cs=4, opts=es)\n",
    "NN.predict([[0. for i in range(cs)]]) ## llamada auxiliar para construir el nodo de la red\n",
    "NN.summary()"
   ]
  },
  {
   "cell_type": "markdown",
   "metadata": {},
   "source": [
    "# Prueba ControlStateTime"
   ]
  },
  {
   "cell_type": "code",
   "execution_count": 20,
   "metadata": {},
   "outputs": [
    {
     "name": "stdout",
     "output_type": "stream",
     "text": [
      "1/1 [==============================] - 0s 118ms/step\n",
      "Model: \"control_state_time_9\"\n",
      "_________________________________________________________________\n",
      " Layer (type)                Output Shape              Param #   \n",
      "=================================================================\n",
      " dense_8 (Dense)             multiple                  80        \n",
      "                                                                 \n",
      " dense_9 (Dense)             multiple                  544       \n",
      "                                                                 \n",
      " state_time_4 (StateTime)    multiple                  165       \n",
      "                                                                 \n",
      "=================================================================\n",
      "Total params: 789\n",
      "Trainable params: 789\n",
      "Non-trainable params: 0\n",
      "_________________________________________________________________\n"
     ]
    }
   ],
   "source": [
    "cs = 4 # tamano del vector de entrada evaluado por la red\n",
    "es = 4 # numero de configuraciones del semaforo\n",
    "\n",
    "NN = ControlStateTime(cs=4, opts=es)\n",
    "NN.predict([[0. for i in range(cs)]]) ## llamada auxiliar para construir el nodo de la red\n",
    "NN.summary()"
   ]
  }
 ],
 "metadata": {
  "kernelspec": {
   "display_name": "Test",
   "language": "python",
   "name": "python3"
  },
  "language_info": {
   "codemirror_mode": {
    "name": "ipython",
    "version": 3
   },
   "file_extension": ".py",
   "mimetype": "text/x-python",
   "name": "python",
   "nbconvert_exporter": "python",
   "pygments_lexer": "ipython3",
   "version": "3.9.19"
  }
 },
 "nbformat": 4,
 "nbformat_minor": 2
}
