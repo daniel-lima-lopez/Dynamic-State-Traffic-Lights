{
 "cells": [
  {
   "cell_type": "code",
   "execution_count": 1,
   "metadata": {},
   "outputs": [],
   "source": [
    "import tensorflow as tf\n",
    "import numpy as np"
   ]
  },
  {
   "cell_type": "code",
   "execution_count": 2,
   "metadata": {},
   "outputs": [],
   "source": [
    "class TraficLights(tf.keras.layers.Layer):\n",
    "    def __init__(self, opts, t0=5, tf=15):\n",
    "        super().__init__()\n",
    "        self.opts = opts # numero de casos de semaforos considerados\n",
    "        self.t0 = t0 # rango inferior de la ventana de tiempo\n",
    "        self.tf = tf # rango superior de la ventana de tiempo\n",
    "    \n",
    "    def get_config(self):\n",
    "        return {'opts': self.opts}\n",
    "\n",
    "    def build(self, input_shape): # (batch, units)\n",
    "        self.Wopt = self.add_weight(shape=(input_shape[-1], self.opts)) # matriz de pesos para opciones de control\n",
    "        self.bopt = self.add_weight(shape=(self.opts,)) # bias para opciones de control\n",
    "\n",
    "        self.Wt = self.add_weight(shape=(input_shape[-1],1)) # matriz de pesos para opciones de control\n",
    "        self.bt = self.add_weight(shape=(1,)) # bias para opciones de control\n",
    "\n",
    "    \n",
    "    def call(self, Xs):\n",
    "        yopt = tf.keras.activations.softmax(tf.matmul(Xs, self.Wopt) + self.bopt)\n",
    "        yt = (self.tf-self.t0)*tf.keras.activations.sigmoid(tf.matmul(Xs, self.Wt) + self.bt) + self.t0\n",
    "\n",
    "        ys = tf.concat([yopt, yt], axis=-1)\n",
    "        \n",
    "        return ys\n",
    "\n",
    "\n",
    "class Control(tf.keras.Model):\n",
    "    def __init__(self, n, u1=16, u2=32, opts=4):\n",
    "        super().__init__()\n",
    "\n",
    "        self.n = n\n",
    "        self.u1 = u1\n",
    "        self.u2 = u2\n",
    "        self.opts = opts\n",
    "        \n",
    "        self.d1 = tf.keras.layers.Dense(units=u1, activation='relu')\n",
    "        self.d2 = tf.keras.layers.Dense(units=u2, activation='relu')\n",
    "        self.trafic = TraficLights(opts=opts)\n",
    "    \n",
    "    def call(self, Xs):\n",
    "        ys = self.d1(Xs)\n",
    "        ys = self.d2(ys)\n",
    "        ys = self.trafic(ys)\n",
    "\n",
    "        return ys\n",
    "    \n",
    "    def get_gen(self):\n",
    "        gen = []\n",
    "        for layer in [self.d1, self.d2, self.trafic]:\n",
    "            Ws = layer.get_weights()\n",
    "            for wi in Ws:\n",
    "                wi = np.array (wi)\n",
    "                wi = wi.flatten(order='C')\n",
    "                gen += list(wi)\n",
    "        print(gen)\n",
    "        return np.array(gen)\n",
    "    \n",
    "    def set_phen(self, gen): # 80\n",
    "        aux = 0 # limite inferior para saber que variables tomar\n",
    "        for layer in [self.d1, self.d2, self.trafic]:\n",
    "            Ws = layer.get_weights()\n",
    "            new_ws = []\n",
    "            for wi in Ws:\n",
    "                inc = np.prod(wi.shape)\n",
    "                auxW = gen[aux:aux+inc]\n",
    "                auxW = np.reshape(auxW, newshape=wi.shape)\n",
    "                new_ws.append(auxW)\n",
    "                aux += inc\n",
    "            layer.set_weights(new_ws)"
   ]
  },
  {
   "cell_type": "code",
   "execution_count": 3,
   "metadata": {},
   "outputs": [
    {
     "name": "stdout",
     "output_type": "stream",
     "text": [
      "1/1 [==============================] - 16s 16s/step\n",
      "Model: \"control\"\n",
      "_________________________________________________________________\n",
      " Layer (type)                Output Shape              Param #   \n",
      "=================================================================\n",
      " dense (Dense)               multiple                  80        \n",
      "                                                                 \n",
      " dense_1 (Dense)             multiple                  544       \n",
      "                                                                 \n",
      " trafic_lights (TraficLights  multiple                 165       \n",
      " )                                                               \n",
      "                                                                 \n",
      "=================================================================\n",
      "Total params: 789\n",
      "Trainable params: 789\n",
      "Non-trainable params: 0\n",
      "_________________________________________________________________\n"
     ]
    }
   ],
   "source": [
    "n = 4 # numero de variables de entrada consideradas\n",
    "model = Control(n)\n",
    "\n",
    "aux = np.ones((1,4), dtype=np.float32)\n",
    "pred = model.predict(aux)\n",
    "\n",
    "model.summary()"
   ]
  }
 ],
 "metadata": {
  "kernelspec": {
   "display_name": "tfgpu",
   "language": "python",
   "name": "tfgpu"
  },
  "language_info": {
   "codemirror_mode": {
    "name": "ipython",
    "version": 3
   },
   "file_extension": ".py",
   "mimetype": "text/x-python",
   "name": "python",
   "nbconvert_exporter": "python",
   "pygments_lexer": "ipython3",
   "version": "3.9.13"
  }
 },
 "nbformat": 4,
 "nbformat_minor": 2
}
